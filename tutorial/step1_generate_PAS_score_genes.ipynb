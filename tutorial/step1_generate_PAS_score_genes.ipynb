{
 "cells": [
  {
   "cell_type": "markdown",
   "id": "3be462e5",
   "metadata": {},
   "source": [
    "Import Module"
   ]
  },
  {
   "cell_type": "code",
   "execution_count": 1,
   "id": "8df24824",
   "metadata": {
    "ExecuteTime": {
     "end_time": "2024-02-17T13:25:56.084087Z",
     "start_time": "2024-02-17T13:25:47.000802Z"
    }
   },
   "outputs": [],
   "source": [
    "import scPAFA\n",
    "import scanpy as sc\n",
    "import json"
   ]
  },
  {
   "cell_type": "markdown",
   "id": "bbb5eddd",
   "metadata": {},
   "source": [
    "Use scanpy to read anndata in h5ad format, which contain single-cell gene expression matrix, then normalize"
   ]
  },
  {
   "cell_type": "code",
   "execution_count": 2,
   "id": "528d9bde",
   "metadata": {
    "ExecuteTime": {
     "end_time": "2024-02-17T13:26:10.230368Z",
     "start_time": "2024-02-17T13:25:56.087809Z"
    }
   },
   "outputs": [],
   "source": [
    "#read_adata_single_cell\n",
    "#lupus_dataset\n",
    "adata = sc.read_h5ad('/data/scPAFA_paper/lupus_file/20231115_lupus_raw_geneover30_cellxgene.h5ad')\n",
    "sc.pp.normalize_total(adata, target_sum=1e4)"
   ]
  },
  {
   "cell_type": "code",
   "execution_count": 3,
   "id": "e46c8b13",
   "metadata": {
    "ExecuteTime": {
     "end_time": "2024-02-17T13:26:10.242890Z",
     "start_time": "2024-02-17T13:26:10.233236Z"
    }
   },
   "outputs": [
    {
     "data": {
      "text/plain": [
       "(1263676, 20514)"
      ]
     },
     "execution_count": 3,
     "metadata": {},
     "output_type": "execute_result"
    }
   ],
   "source": [
    "#1263676cells*22444genes\n",
    "adata.shape"
   ]
  },
  {
   "cell_type": "markdown",
   "id": "bc9823fa",
   "metadata": {},
   "source": [
    "Import pathway collection"
   ]
  },
  {
   "cell_type": "code",
   "execution_count": 4,
   "id": "0c5b4d76",
   "metadata": {
    "ExecuteTime": {
     "end_time": "2024-02-17T13:26:10.331121Z",
     "start_time": "2024-02-17T13:26:10.245133Z"
    }
   },
   "outputs": [],
   "source": [
    "#read_pathway_dict\n",
    "with open('../example_file/pathwaydict_bioplanet.json', 'r') as file:\n",
    "    pathway_dict = json.load(file)"
   ]
  },
  {
   "cell_type": "markdown",
   "id": "b379f6b1",
   "metadata": {},
   "source": [
    "Quality control and reformat of pathway collection"
   ]
  },
  {
   "cell_type": "code",
   "execution_count": 5,
   "id": "d3653f8f",
   "metadata": {
    "ExecuteTime": {
     "end_time": "2024-02-17T13:26:30.090268Z",
     "start_time": "2024-02-17T13:26:10.335188Z"
    }
   },
   "outputs": [
    {
     "name": "stdout",
     "output_type": "stream",
     "text": [
      "Filtered out 275 pathways\n",
      "1383 pathways passed QC\n",
      "The maxRank must >= 1615 (The genes number of the longest pathway)\n"
     ]
    }
   ],
   "source": [
    "#pathway_input_qc_by_overlapgene\n",
    "pathway_input = scPAFA.tl.generate_pathway_input(adata = adata,pathway_dict= pathway_dict,min_overlap_gene=6)"
   ]
  },
  {
   "cell_type": "markdown",
   "id": "c0a63190",
   "metadata": {},
   "source": [
    "Calculation of PAS"
   ]
  },
  {
   "cell_type": "code",
   "execution_count": 6,
   "id": "cd2a07fd",
   "metadata": {
    "ExecuteTime": {
     "end_time": "2024-02-17T13:58:38.767166Z",
     "start_time": "2024-02-17T13:26:30.093111Z"
    }
   },
   "outputs": [
    {
     "name": "stdout",
     "output_type": "stream",
     "text": [
      "Calculating Score\n",
      "13 batches need to score, with each max 100000 cells\n",
      "processing_batch_1\n",
      "processing_batch_2\n",
      "processing_batch_3\n",
      "processing_batch_4\n",
      "processing_batch_5\n",
      "processing_batch_6\n",
      "processing_batch_7\n",
      "processing_batch_8\n",
      "processing_batch_9\n",
      "processing_batch_10\n",
      "processing_batch_11\n",
      "processing_batch_12\n",
      "processing_batch_13\n",
      "score_done\n",
      "Outputing_dataframe\n"
     ]
    }
   ],
   "source": [
    "sctl_result = scPAFA.tl.fast_sctl_score(adata=adata,input_dict=pathway_input,n_cores_score=10)"
   ]
  },
  {
   "cell_type": "markdown",
   "id": "beb81361",
   "metadata": {},
   "source": [
    "Save PAS"
   ]
  },
  {
   "cell_type": "code",
   "execution_count": 8,
   "id": "e1ea1eec",
   "metadata": {
    "ExecuteTime": {
     "end_time": "2024-02-17T14:11:37.877676Z",
     "start_time": "2024-02-17T14:09:11.901974Z"
    }
   },
   "outputs": [],
   "source": [
    "#save UCell_result as parquet file\n",
    "import pandas as pd\n",
    "sctl_result.to_parquet('/data/scPAFA_paper/lupus_file/sctl_lupus_bioplanet_example.parquet')"
   ]
  }
 ],
 "metadata": {
  "kernelspec": {
   "display_name": "scPAFA_paper",
   "language": "python",
   "name": "scpaf_paper"
  },
  "language_info": {
   "codemirror_mode": {
    "name": "ipython",
    "version": 3
   },
   "file_extension": ".py",
   "mimetype": "text/x-python",
   "name": "python",
   "nbconvert_exporter": "python",
   "pygments_lexer": "ipython3",
   "version": "3.10.12"
  },
  "varInspector": {
   "cols": {
    "lenName": 16,
    "lenType": 16,
    "lenVar": 40
   },
   "kernels_config": {
    "python": {
     "delete_cmd_postfix": "",
     "delete_cmd_prefix": "del ",
     "library": "var_list.py",
     "varRefreshCmd": "print(var_dic_list())"
    },
    "r": {
     "delete_cmd_postfix": ") ",
     "delete_cmd_prefix": "rm(",
     "library": "var_list.r",
     "varRefreshCmd": "cat(var_dic_list()) "
    }
   },
   "types_to_exclude": [
    "module",
    "function",
    "builtin_function_or_method",
    "instance",
    "_Feature"
   ],
   "window_display": false
  }
 },
 "nbformat": 4,
 "nbformat_minor": 5
}
