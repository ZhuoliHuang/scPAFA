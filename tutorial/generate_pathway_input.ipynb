{
 "cells": [
  {
   "cell_type": "code",
   "execution_count": 1,
   "id": "306f2eac",
   "metadata": {
    "ExecuteTime": {
     "end_time": "2024-02-15T08:11:15.935504Z",
     "start_time": "2024-02-15T08:11:13.482928Z"
    }
   },
   "outputs": [],
   "source": [
    "import numpy as np\n",
    "import pandas as pd\n",
    "import json\n",
    "import collections"
   ]
  },
  {
   "cell_type": "markdown",
   "id": "bcba999c",
   "metadata": {},
   "source": [
    "### **Generate pathway input from NCATS bioplanet csv**"
   ]
  },
  {
   "cell_type": "code",
   "execution_count": 2,
   "id": "7bfefae4",
   "metadata": {
    "ExecuteTime": {
     "end_time": "2024-02-15T08:16:26.028521Z",
     "start_time": "2024-02-15T08:16:25.639010Z"
    }
   },
   "outputs": [],
   "source": [
    "#read pathway from bioplanetcsv\n",
    "df_pathway = pd.read_csv('/data/scPAFA_paper/pathway/bioplanet_pathway.csv')"
   ]
  },
  {
   "cell_type": "code",
   "execution_count": 11,
   "id": "be6e13b8",
   "metadata": {
    "ExecuteTime": {
     "end_time": "2024-02-15T08:48:17.278724Z",
     "start_time": "2024-02-15T08:48:17.259694Z"
    }
   },
   "outputs": [
    {
     "data": {
      "text/html": [
       "<div>\n",
       "<style scoped>\n",
       "    .dataframe tbody tr th:only-of-type {\n",
       "        vertical-align: middle;\n",
       "    }\n",
       "\n",
       "    .dataframe tbody tr th {\n",
       "        vertical-align: top;\n",
       "    }\n",
       "\n",
       "    .dataframe thead th {\n",
       "        text-align: right;\n",
       "    }\n",
       "</style>\n",
       "<table border=\"1\" class=\"dataframe\">\n",
       "  <thead>\n",
       "    <tr style=\"text-align: right;\">\n",
       "      <th></th>\n",
       "      <th>PATHWAY_ID</th>\n",
       "      <th>PATHWAY_NAME</th>\n",
       "      <th>GENE_ID</th>\n",
       "      <th>GENE_SYMBOL</th>\n",
       "      <th>pathway_full_name</th>\n",
       "    </tr>\n",
       "  </thead>\n",
       "  <tbody>\n",
       "    <tr>\n",
       "      <th>0</th>\n",
       "      <td>bioplanet_1</td>\n",
       "      <td>Inhibition of matrix metalloproteinases</td>\n",
       "      <td>3265</td>\n",
       "      <td>HRAS</td>\n",
       "      <td>bioplanet_1_Inhibition of matrix metalloprotei...</td>\n",
       "    </tr>\n",
       "    <tr>\n",
       "      <th>1</th>\n",
       "      <td>bioplanet_1</td>\n",
       "      <td>Inhibition of matrix metalloproteinases</td>\n",
       "      <td>4313</td>\n",
       "      <td>MMP2</td>\n",
       "      <td>bioplanet_1_Inhibition of matrix metalloprotei...</td>\n",
       "    </tr>\n",
       "    <tr>\n",
       "      <th>2</th>\n",
       "      <td>bioplanet_1</td>\n",
       "      <td>Inhibition of matrix metalloproteinases</td>\n",
       "      <td>4318</td>\n",
       "      <td>MMP9</td>\n",
       "      <td>bioplanet_1_Inhibition of matrix metalloprotei...</td>\n",
       "    </tr>\n",
       "    <tr>\n",
       "      <th>3</th>\n",
       "      <td>bioplanet_1</td>\n",
       "      <td>Inhibition of matrix metalloproteinases</td>\n",
       "      <td>4323</td>\n",
       "      <td>MMP14</td>\n",
       "      <td>bioplanet_1_Inhibition of matrix metalloprotei...</td>\n",
       "    </tr>\n",
       "    <tr>\n",
       "      <th>4</th>\n",
       "      <td>bioplanet_1</td>\n",
       "      <td>Inhibition of matrix metalloproteinases</td>\n",
       "      <td>7076</td>\n",
       "      <td>TIMP1</td>\n",
       "      <td>bioplanet_1_Inhibition of matrix metalloprotei...</td>\n",
       "    </tr>\n",
       "    <tr>\n",
       "      <th>5</th>\n",
       "      <td>bioplanet_1</td>\n",
       "      <td>Inhibition of matrix metalloproteinases</td>\n",
       "      <td>7077</td>\n",
       "      <td>TIMP2</td>\n",
       "      <td>bioplanet_1_Inhibition of matrix metalloprotei...</td>\n",
       "    </tr>\n",
       "    <tr>\n",
       "      <th>6</th>\n",
       "      <td>bioplanet_1</td>\n",
       "      <td>Inhibition of matrix metalloproteinases</td>\n",
       "      <td>7078</td>\n",
       "      <td>TIMP3</td>\n",
       "      <td>bioplanet_1_Inhibition of matrix metalloprotei...</td>\n",
       "    </tr>\n",
       "    <tr>\n",
       "      <th>7</th>\n",
       "      <td>bioplanet_1</td>\n",
       "      <td>Inhibition of matrix metalloproteinases</td>\n",
       "      <td>7079</td>\n",
       "      <td>TIMP4</td>\n",
       "      <td>bioplanet_1_Inhibition of matrix metalloprotei...</td>\n",
       "    </tr>\n",
       "    <tr>\n",
       "      <th>8</th>\n",
       "      <td>bioplanet_1</td>\n",
       "      <td>Inhibition of matrix metalloproteinases</td>\n",
       "      <td>8434</td>\n",
       "      <td>RECK</td>\n",
       "      <td>bioplanet_1_Inhibition of matrix metalloprotei...</td>\n",
       "    </tr>\n",
       "    <tr>\n",
       "      <th>9</th>\n",
       "      <td>bioplanet_10</td>\n",
       "      <td>Adhesion and diapedesis of granulocytes</td>\n",
       "      <td>727</td>\n",
       "      <td>C5</td>\n",
       "      <td>bioplanet_10_Adhesion and diapedesis of granul...</td>\n",
       "    </tr>\n",
       "  </tbody>\n",
       "</table>\n",
       "</div>"
      ],
      "text/plain": [
       "     PATHWAY_ID                             PATHWAY_NAME  GENE_ID GENE_SYMBOL  \\\n",
       "0   bioplanet_1  Inhibition of matrix metalloproteinases     3265        HRAS   \n",
       "1   bioplanet_1  Inhibition of matrix metalloproteinases     4313        MMP2   \n",
       "2   bioplanet_1  Inhibition of matrix metalloproteinases     4318        MMP9   \n",
       "3   bioplanet_1  Inhibition of matrix metalloproteinases     4323       MMP14   \n",
       "4   bioplanet_1  Inhibition of matrix metalloproteinases     7076       TIMP1   \n",
       "5   bioplanet_1  Inhibition of matrix metalloproteinases     7077       TIMP2   \n",
       "6   bioplanet_1  Inhibition of matrix metalloproteinases     7078       TIMP3   \n",
       "7   bioplanet_1  Inhibition of matrix metalloproteinases     7079       TIMP4   \n",
       "8   bioplanet_1  Inhibition of matrix metalloproteinases     8434        RECK   \n",
       "9  bioplanet_10  Adhesion and diapedesis of granulocytes      727          C5   \n",
       "\n",
       "                                   pathway_full_name  \n",
       "0  bioplanet_1_Inhibition of matrix metalloprotei...  \n",
       "1  bioplanet_1_Inhibition of matrix metalloprotei...  \n",
       "2  bioplanet_1_Inhibition of matrix metalloprotei...  \n",
       "3  bioplanet_1_Inhibition of matrix metalloprotei...  \n",
       "4  bioplanet_1_Inhibition of matrix metalloprotei...  \n",
       "5  bioplanet_1_Inhibition of matrix metalloprotei...  \n",
       "6  bioplanet_1_Inhibition of matrix metalloprotei...  \n",
       "7  bioplanet_1_Inhibition of matrix metalloprotei...  \n",
       "8  bioplanet_1_Inhibition of matrix metalloprotei...  \n",
       "9  bioplanet_10_Adhesion and diapedesis of granul...  "
      ]
     },
     "execution_count": 11,
     "metadata": {},
     "output_type": "execute_result"
    }
   ],
   "source": [
    "#show bioplanet csv\n",
    "df_pathway[0:10]"
   ]
  },
  {
   "cell_type": "code",
   "execution_count": 4,
   "id": "1cf87578",
   "metadata": {
    "ExecuteTime": {
     "end_time": "2024-02-15T08:17:32.016122Z",
     "start_time": "2024-02-15T08:17:20.861049Z"
    }
   },
   "outputs": [],
   "source": [
    "#generate pathway input\n",
    "df_pathway['pathway_full_name'] = df_pathway['PATHWAY_ID']+'_'+df_pathway['PATHWAY_NAME']\n",
    "pathwaydict_bioplanet = dict(collections.Counter(df_pathway['pathway_full_name']))\n",
    "for i in pathwaydict_bioplanet.keys():\n",
    "    pathwaydict_bioplanet[i] = df_pathway[df_pathway['pathway_full_name'] == i]['GENE_SYMBOL'].to_list()"
   ]
  },
  {
   "cell_type": "code",
   "execution_count": 12,
   "id": "ca4a5495",
   "metadata": {
    "ExecuteTime": {
     "end_time": "2024-02-15T08:48:41.787629Z",
     "start_time": "2024-02-15T08:48:41.772784Z"
    }
   },
   "outputs": [
    {
     "data": {
      "text/plain": [
       "['HRAS', 'MMP2', 'MMP9', 'MMP14', 'TIMP1', 'TIMP2', 'TIMP3', 'TIMP4', 'RECK']"
      ]
     },
     "execution_count": 12,
     "metadata": {},
     "output_type": "execute_result"
    }
   ],
   "source": [
    "#show pathway input dict\n",
    "pathwaydict_bioplanet['bioplanet_1_Inhibition of matrix metalloproteinases']"
   ]
  },
  {
   "cell_type": "code",
   "execution_count": 7,
   "id": "309377d4",
   "metadata": {
    "ExecuteTime": {
     "end_time": "2024-02-15T08:20:00.331964Z",
     "start_time": "2024-02-15T08:20:00.320825Z"
    }
   },
   "outputs": [
    {
     "name": "stdout",
     "output_type": "stream",
     "text": [
      "True\n",
      "1658\n"
     ]
    }
   ],
   "source": [
    "#check unique\n",
    "print(len(pathwaydict_bioplanet) == len(set(pathwaydict_bioplanet.keys())))\n",
    "print(len(pathwaydict_bioplanet))"
   ]
  },
  {
   "cell_type": "code",
   "execution_count": 8,
   "id": "4fdef9ed",
   "metadata": {
    "ExecuteTime": {
     "end_time": "2024-02-15T08:21:39.498572Z",
     "start_time": "2024-02-15T08:21:39.435378Z"
    }
   },
   "outputs": [],
   "source": [
    "#save pathway input dictionary\n",
    "with open('../example_file/pathwaydict_bioplanet.json', \"w\") as json_file:\n",
    "    json.dump(pathwaydict_bioplanet, json_file)"
   ]
  },
  {
   "cell_type": "markdown",
   "id": "6420df0a",
   "metadata": {},
   "source": [
    "### **Generate pathway input from MsigDB JSON**"
   ]
  },
  {
   "cell_type": "code",
   "execution_count": 9,
   "id": "ad957f0e",
   "metadata": {
    "ExecuteTime": {
     "end_time": "2024-02-15T08:40:37.176162Z",
     "start_time": "2024-02-15T08:40:37.150119Z"
    }
   },
   "outputs": [],
   "source": [
    "#read pathway from MsigDB json(hallmark 50 pathways)\n",
    "with open('/data/scPAFA_paper/pathway/h.all.v2023.2.Hs.json', 'r') as file:\n",
    "    hallmark_json = json.load(file)\n",
    "pathwaydict_hallmark ={i:hallmark_json[i]['geneSymbols'] for i in hallmark_json.keys()}"
   ]
  },
  {
   "cell_type": "code",
   "execution_count": 13,
   "id": "1126cb02",
   "metadata": {
    "ExecuteTime": {
     "end_time": "2024-02-15T08:49:00.038631Z",
     "start_time": "2024-02-15T08:49:00.025351Z"
    }
   },
   "outputs": [
    {
     "data": {
      "text/plain": [
       "['ABCA1',\n",
       " 'ACKR3',\n",
       " 'AREG',\n",
       " 'ATF3',\n",
       " 'ATP2B1',\n",
       " 'B4GALT1',\n",
       " 'B4GALT5',\n",
       " 'BCL2A1',\n",
       " 'BCL3',\n",
       " 'BCL6',\n",
       " 'BHLHE40',\n",
       " 'BIRC2',\n",
       " 'BIRC3',\n",
       " 'BMP2',\n",
       " 'BTG1',\n",
       " 'BTG2',\n",
       " 'BTG3',\n",
       " 'CCL2',\n",
       " 'CCL20',\n",
       " 'CCL4',\n",
       " 'CCL5',\n",
       " 'CCN1',\n",
       " 'CCND1',\n",
       " 'CCNL1',\n",
       " 'CCRL2',\n",
       " 'CD44',\n",
       " 'CD69',\n",
       " 'CD80',\n",
       " 'CD83',\n",
       " 'CDKN1A',\n",
       " 'CEBPB',\n",
       " 'CEBPD',\n",
       " 'CFLAR',\n",
       " 'CLCF1',\n",
       " 'CSF1',\n",
       " 'CSF2',\n",
       " 'CXCL1',\n",
       " 'CXCL10',\n",
       " 'CXCL11',\n",
       " 'CXCL2',\n",
       " 'CXCL3',\n",
       " 'CXCL6',\n",
       " 'DENND5A',\n",
       " 'DNAJB4',\n",
       " 'DRAM1',\n",
       " 'DUSP1',\n",
       " 'DUSP2',\n",
       " 'DUSP4',\n",
       " 'DUSP5',\n",
       " 'EDN1',\n",
       " 'EFNA1',\n",
       " 'EGR1',\n",
       " 'EGR2',\n",
       " 'EGR3',\n",
       " 'EHD1',\n",
       " 'EIF1',\n",
       " 'ETS2',\n",
       " 'F2RL1',\n",
       " 'F3',\n",
       " 'FJX1',\n",
       " 'FOS',\n",
       " 'FOSB',\n",
       " 'FOSL1',\n",
       " 'FOSL2',\n",
       " 'FUT4',\n",
       " 'G0S2',\n",
       " 'GADD45A',\n",
       " 'GADD45B',\n",
       " 'GCH1',\n",
       " 'GEM',\n",
       " 'GFPT2',\n",
       " 'GPR183',\n",
       " 'HBEGF',\n",
       " 'HES1',\n",
       " 'ICAM1',\n",
       " 'ICOSLG',\n",
       " 'ID2',\n",
       " 'IER2',\n",
       " 'IER3',\n",
       " 'IER5',\n",
       " 'IFIH1',\n",
       " 'IFIT2',\n",
       " 'IFNGR2',\n",
       " 'IL12B',\n",
       " 'IL15RA',\n",
       " 'IL18',\n",
       " 'IL1A',\n",
       " 'IL1B',\n",
       " 'IL23A',\n",
       " 'IL6',\n",
       " 'IL6ST',\n",
       " 'IL7R',\n",
       " 'INHBA',\n",
       " 'IRF1',\n",
       " 'IRS2',\n",
       " 'JAG1',\n",
       " 'JUN',\n",
       " 'JUNB',\n",
       " 'KDM6B',\n",
       " 'KLF10',\n",
       " 'KLF2',\n",
       " 'KLF4',\n",
       " 'KLF6',\n",
       " 'KLF9',\n",
       " 'KYNU',\n",
       " 'LAMB3',\n",
       " 'LDLR',\n",
       " 'LIF',\n",
       " 'LITAF',\n",
       " 'MAFF',\n",
       " 'MAP2K3',\n",
       " 'MAP3K8',\n",
       " 'MARCKS',\n",
       " 'MCL1',\n",
       " 'MSC',\n",
       " 'MXD1',\n",
       " 'MYC',\n",
       " 'NAMPT',\n",
       " 'NFAT5',\n",
       " 'NFE2L2',\n",
       " 'NFIL3',\n",
       " 'NFKB1',\n",
       " 'NFKB2',\n",
       " 'NFKBIA',\n",
       " 'NFKBIE',\n",
       " 'NINJ1',\n",
       " 'NR4A1',\n",
       " 'NR4A2',\n",
       " 'NR4A3',\n",
       " 'OLR1',\n",
       " 'PANX1',\n",
       " 'PDE4B',\n",
       " 'PDLIM5',\n",
       " 'PER1',\n",
       " 'PFKFB3',\n",
       " 'PHLDA1',\n",
       " 'PHLDA2',\n",
       " 'PLAU',\n",
       " 'PLAUR',\n",
       " 'PLEK',\n",
       " 'PLK2',\n",
       " 'PLPP3',\n",
       " 'PMEPA1',\n",
       " 'PNRC1',\n",
       " 'PPP1R15A',\n",
       " 'PTGER4',\n",
       " 'PTGS2',\n",
       " 'PTPRE',\n",
       " 'PTX3',\n",
       " 'RCAN1',\n",
       " 'REL',\n",
       " 'RELA',\n",
       " 'RELB',\n",
       " 'RHOB',\n",
       " 'RIGI',\n",
       " 'RIPK2',\n",
       " 'RNF19B',\n",
       " 'SAT1',\n",
       " 'SDC4',\n",
       " 'SERPINB2',\n",
       " 'SERPINB8',\n",
       " 'SERPINE1',\n",
       " 'SGK1',\n",
       " 'SIK1',\n",
       " 'SLC16A6',\n",
       " 'SLC2A3',\n",
       " 'SLC2A6',\n",
       " 'SMAD3',\n",
       " 'SNN',\n",
       " 'SOCS3',\n",
       " 'SOD2',\n",
       " 'SPHK1',\n",
       " 'SPSB1',\n",
       " 'SQSTM1',\n",
       " 'STAT5A',\n",
       " 'TANK',\n",
       " 'TAP1',\n",
       " 'TGIF1',\n",
       " 'TIPARP',\n",
       " 'TLR2',\n",
       " 'TNC',\n",
       " 'TNF',\n",
       " 'TNFAIP2',\n",
       " 'TNFAIP3',\n",
       " 'TNFAIP6',\n",
       " 'TNFAIP8',\n",
       " 'TNFRSF9',\n",
       " 'TNFSF9',\n",
       " 'TNIP1',\n",
       " 'TNIP2',\n",
       " 'TRAF1',\n",
       " 'TRIB1',\n",
       " 'TRIP10',\n",
       " 'TSC22D1',\n",
       " 'TUBB2A',\n",
       " 'VEGFA',\n",
       " 'YRDC',\n",
       " 'ZBTB10',\n",
       " 'ZC3H12A',\n",
       " 'ZFP36']"
      ]
     },
     "execution_count": 13,
     "metadata": {},
     "output_type": "execute_result"
    }
   ],
   "source": [
    "#show pathway input dict\n",
    "pathwaydict_hallmark['HALLMARK_TNFA_SIGNALING_VIA_NFKB']"
   ]
  },
  {
   "cell_type": "code",
   "execution_count": 14,
   "id": "d96d9722",
   "metadata": {
    "ExecuteTime": {
     "end_time": "2024-02-15T08:49:05.586886Z",
     "start_time": "2024-02-15T08:49:05.577882Z"
    }
   },
   "outputs": [
    {
     "name": "stdout",
     "output_type": "stream",
     "text": [
      "True\n",
      "50\n"
     ]
    }
   ],
   "source": [
    "#show pathway input dict\n",
    "print(len(pathwaydict_hallmark) == len(set(pathwaydict_hallmark.keys())))\n",
    "print(len(pathwaydict_hallmark))"
   ]
  }
 ],
 "metadata": {
  "kernelspec": {
   "display_name": "scPAFA_paper",
   "language": "python",
   "name": "scpaf_paper"
  },
  "language_info": {
   "codemirror_mode": {
    "name": "ipython",
    "version": 3
   },
   "file_extension": ".py",
   "mimetype": "text/x-python",
   "name": "python",
   "nbconvert_exporter": "python",
   "pygments_lexer": "ipython3",
   "version": "3.10.12"
  },
  "varInspector": {
   "cols": {
    "lenName": 16,
    "lenType": 16,
    "lenVar": 40
   },
   "kernels_config": {
    "python": {
     "delete_cmd_postfix": "",
     "delete_cmd_prefix": "del ",
     "library": "var_list.py",
     "varRefreshCmd": "print(var_dic_list())"
    },
    "r": {
     "delete_cmd_postfix": ") ",
     "delete_cmd_prefix": "rm(",
     "library": "var_list.r",
     "varRefreshCmd": "cat(var_dic_list()) "
    }
   },
   "types_to_exclude": [
    "module",
    "function",
    "builtin_function_or_method",
    "instance",
    "_Feature"
   ],
   "window_display": false
  }
 },
 "nbformat": 4,
 "nbformat_minor": 5
}
