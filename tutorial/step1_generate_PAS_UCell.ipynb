{
 "cells": [
  {
   "cell_type": "markdown",
   "id": "338fbc26",
   "metadata": {},
   "source": [
    "Import Module"
   ]
  },
  {
   "cell_type": "code",
   "execution_count": 1,
   "id": "a29d5d12",
   "metadata": {
    "ExecuteTime": {
     "end_time": "2024-02-17T12:13:05.482681Z",
     "start_time": "2024-02-17T12:12:44.600346Z"
    }
   },
   "outputs": [],
   "source": [
    "import scPAFA\n",
    "import scanpy as sc\n",
    "import json"
   ]
  },
  {
   "cell_type": "markdown",
   "id": "855da23f",
   "metadata": {},
   "source": [
    "Use scanpy to read anndata in h5ad format, which contain single-cell gene expression matrix"
   ]
  },
  {
   "cell_type": "code",
   "execution_count": 2,
   "id": "6ec0d5b3",
   "metadata": {
    "ExecuteTime": {
     "end_time": "2024-02-17T12:14:10.522150Z",
     "start_time": "2024-02-17T12:13:05.486873Z"
    }
   },
   "outputs": [],
   "source": [
    "#read_adata_single_cell\n",
    "#lupus_dataset\n",
    "adata = sc.read_h5ad('/data/scPAFA_paper/lupus_file/20231115_lupus_raw_geneover30_cellxgene.h5ad')"
   ]
  },
  {
   "cell_type": "code",
   "execution_count": 3,
   "id": "2b3d9174",
   "metadata": {
    "ExecuteTime": {
     "end_time": "2024-02-17T12:14:10.534662Z",
     "start_time": "2024-02-17T12:14:10.525159Z"
    }
   },
   "outputs": [
    {
     "data": {
      "text/plain": [
       "(1263676, 20514)"
      ]
     },
     "execution_count": 3,
     "metadata": {},
     "output_type": "execute_result"
    }
   ],
   "source": [
    "#1263676cells*22444genes\n",
    "adata.shape"
   ]
  },
  {
   "cell_type": "markdown",
   "id": "86f5292f",
   "metadata": {
    "ExecuteTime": {
     "end_time": "2024-02-17T13:12:50.924677Z",
     "start_time": "2024-02-17T13:12:50.914705Z"
    }
   },
   "source": [
    "Import pathway collection"
   ]
  },
  {
   "cell_type": "code",
   "execution_count": 4,
   "id": "e5110f08",
   "metadata": {
    "ExecuteTime": {
     "end_time": "2024-02-17T12:14:10.751404Z",
     "start_time": "2024-02-17T12:14:10.537151Z"
    }
   },
   "outputs": [],
   "source": [
    "#read_pathway_dict\n",
    "with open('../example_file/pathwaydict_bioplanet.json', 'r') as file:\n",
    "    pathway_dict = json.load(file)"
   ]
  },
  {
   "cell_type": "markdown",
   "id": "361d4b65",
   "metadata": {},
   "source": [
    "Quality control and reformat of pathway collection"
   ]
  },
  {
   "cell_type": "code",
   "execution_count": 5,
   "id": "619cca51",
   "metadata": {
    "ExecuteTime": {
     "end_time": "2024-02-17T12:14:30.495810Z",
     "start_time": "2024-02-17T12:14:10.755264Z"
    }
   },
   "outputs": [
    {
     "name": "stdout",
     "output_type": "stream",
     "text": [
      "Filtered out 275 pathways\n",
      "1383 pathways passed QC\n",
      "The maxRank must >= 1615 (The genes number of the longest pathway)\n"
     ]
    }
   ],
   "source": [
    "#pathway_input_qc_by_overlapgene\n",
    "pathway_input = scPAFA.tl.generate_pathway_input(adata = adata,pathway_dict= pathway_dict,min_overlap_gene=6)"
   ]
  },
  {
   "cell_type": "markdown",
   "id": "ec61f13c",
   "metadata": {
    "ExecuteTime": {
     "end_time": "2024-02-17T13:15:22.015314Z",
     "start_time": "2024-02-17T13:15:22.008849Z"
    }
   },
   "source": [
    "Calculation of PAS"
   ]
  },
  {
   "cell_type": "code",
   "execution_count": 6,
   "id": "53bbc423",
   "metadata": {
    "ExecuteTime": {
     "end_time": "2024-02-17T12:55:26.615234Z",
     "start_time": "2024-02-17T12:14:30.498491Z"
    }
   },
   "outputs": [
    {
     "name": "stdout",
     "output_type": "stream",
     "text": [
      "adata.X is csr sparse matrix\n",
      "Step1 generate rank matrix\n",
      "13 batches need to rank, with each max 100000 cells\n",
      "Processing_batch_1\n"
     ]
    },
    {
     "name": "stderr",
     "output_type": "stream",
     "text": [
      "Ranking Chunks: 100%|██████████| 10/10 [02:08<00:00, 12.89s/it]\n"
     ]
    },
    {
     "name": "stdout",
     "output_type": "stream",
     "text": [
      "Processing_batch_2\n"
     ]
    },
    {
     "name": "stderr",
     "output_type": "stream",
     "text": [
      "Ranking Chunks: 100%|██████████| 10/10 [01:55<00:00, 11.54s/it]\n"
     ]
    },
    {
     "name": "stdout",
     "output_type": "stream",
     "text": [
      "Processing_batch_3\n"
     ]
    },
    {
     "name": "stderr",
     "output_type": "stream",
     "text": [
      "Ranking Chunks: 100%|██████████| 10/10 [02:12<00:00, 13.24s/it]\n"
     ]
    },
    {
     "name": "stdout",
     "output_type": "stream",
     "text": [
      "Processing_batch_4\n"
     ]
    },
    {
     "name": "stderr",
     "output_type": "stream",
     "text": [
      "Ranking Chunks: 100%|██████████| 10/10 [02:14<00:00, 13.44s/it]\n"
     ]
    },
    {
     "name": "stdout",
     "output_type": "stream",
     "text": [
      "Processing_batch_5\n"
     ]
    },
    {
     "name": "stderr",
     "output_type": "stream",
     "text": [
      "Ranking Chunks: 100%|██████████| 10/10 [02:11<00:00, 13.19s/it]\n"
     ]
    },
    {
     "name": "stdout",
     "output_type": "stream",
     "text": [
      "Processing_batch_6\n"
     ]
    },
    {
     "name": "stderr",
     "output_type": "stream",
     "text": [
      "Ranking Chunks: 100%|██████████| 10/10 [02:05<00:00, 12.60s/it]\n"
     ]
    },
    {
     "name": "stdout",
     "output_type": "stream",
     "text": [
      "Processing_batch_7\n"
     ]
    },
    {
     "name": "stderr",
     "output_type": "stream",
     "text": [
      "Ranking Chunks: 100%|██████████| 10/10 [02:05<00:00, 12.57s/it]\n"
     ]
    },
    {
     "name": "stdout",
     "output_type": "stream",
     "text": [
      "Processing_batch_8\n"
     ]
    },
    {
     "name": "stderr",
     "output_type": "stream",
     "text": [
      "Ranking Chunks: 100%|██████████| 10/10 [02:05<00:00, 12.52s/it]\n"
     ]
    },
    {
     "name": "stdout",
     "output_type": "stream",
     "text": [
      "Processing_batch_10\n"
     ]
    },
    {
     "name": "stderr",
     "output_type": "stream",
     "text": [
      "Ranking Chunks: 100%|██████████| 10/10 [02:04<00:00, 12.41s/it]\n"
     ]
    },
    {
     "name": "stdout",
     "output_type": "stream",
     "text": [
      "Processing_batch_11\n"
     ]
    },
    {
     "name": "stderr",
     "output_type": "stream",
     "text": [
      "Ranking Chunks: 100%|██████████| 10/10 [02:01<00:00, 12.18s/it]\n"
     ]
    },
    {
     "name": "stdout",
     "output_type": "stream",
     "text": [
      "Processing_batch_12\n"
     ]
    },
    {
     "name": "stderr",
     "output_type": "stream",
     "text": [
      "Ranking Chunks: 100%|██████████| 10/10 [02:07<00:00, 12.72s/it]\n"
     ]
    },
    {
     "name": "stdout",
     "output_type": "stream",
     "text": [
      "Processing_batch_13\n"
     ]
    },
    {
     "name": "stderr",
     "output_type": "stream",
     "text": [
      "Ranking Chunks: 100%|██████████| 10/10 [01:41<00:00, 10.16s/it]\n"
     ]
    },
    {
     "name": "stdout",
     "output_type": "stream",
     "text": [
      "Rank done\n",
      "The output rank matrix can be used to calculate UCell score on different pathways set.\n",
      "The maxRank parameter use with this rank matrix in fast_ucell_score() must <= 2000\n",
      "Subset rank matrix by overlap genes in pathways\n",
      "Rank above maxRank to 0\n",
      "step2 calculating Score\n",
      "13 batches need to score, with each max 100000 cells\n",
      "processing_batch_1\n"
     ]
    },
    {
     "name": "stderr",
     "output_type": "stream",
     "text": [
      "Pathways: 100%|██████████| 1383/1383 [00:53<00:00, 25.63it/s]\n"
     ]
    },
    {
     "name": "stdout",
     "output_type": "stream",
     "text": [
      "processing_batch_2\n"
     ]
    },
    {
     "name": "stderr",
     "output_type": "stream",
     "text": [
      "Pathways: 100%|██████████| 1383/1383 [00:54<00:00, 25.60it/s]\n"
     ]
    },
    {
     "name": "stdout",
     "output_type": "stream",
     "text": [
      "processing_batch_3\n"
     ]
    },
    {
     "name": "stderr",
     "output_type": "stream",
     "text": [
      "Pathways: 100%|██████████| 1383/1383 [00:51<00:00, 26.95it/s]\n"
     ]
    },
    {
     "name": "stdout",
     "output_type": "stream",
     "text": [
      "processing_batch_4\n"
     ]
    },
    {
     "name": "stderr",
     "output_type": "stream",
     "text": [
      "Pathways: 100%|██████████| 1383/1383 [00:51<00:00, 26.65it/s]\n"
     ]
    },
    {
     "name": "stdout",
     "output_type": "stream",
     "text": [
      "processing_batch_5\n"
     ]
    },
    {
     "name": "stderr",
     "output_type": "stream",
     "text": [
      "Pathways: 100%|██████████| 1383/1383 [00:51<00:00, 26.75it/s]\n"
     ]
    },
    {
     "name": "stdout",
     "output_type": "stream",
     "text": [
      "processing_batch_6\n"
     ]
    },
    {
     "name": "stderr",
     "output_type": "stream",
     "text": [
      "Pathways: 100%|██████████| 1383/1383 [00:51<00:00, 26.95it/s]\n"
     ]
    },
    {
     "name": "stdout",
     "output_type": "stream",
     "text": [
      "processing_batch_7\n"
     ]
    },
    {
     "name": "stderr",
     "output_type": "stream",
     "text": [
      "Pathways: 100%|██████████| 1383/1383 [00:51<00:00, 26.67it/s]\n"
     ]
    },
    {
     "name": "stdout",
     "output_type": "stream",
     "text": [
      "processing_batch_8\n"
     ]
    },
    {
     "name": "stderr",
     "output_type": "stream",
     "text": [
      "Pathways: 100%|██████████| 1383/1383 [00:51<00:00, 26.84it/s]\n"
     ]
    },
    {
     "name": "stdout",
     "output_type": "stream",
     "text": [
      "processing_batch_9\n"
     ]
    },
    {
     "name": "stderr",
     "output_type": "stream",
     "text": [
      "Pathways: 100%|██████████| 1383/1383 [00:52<00:00, 26.46it/s]\n"
     ]
    },
    {
     "name": "stdout",
     "output_type": "stream",
     "text": [
      "processing_batch_10\n"
     ]
    },
    {
     "name": "stderr",
     "output_type": "stream",
     "text": [
      "Pathways: 100%|██████████| 1383/1383 [00:52<00:00, 26.58it/s]\n"
     ]
    },
    {
     "name": "stdout",
     "output_type": "stream",
     "text": [
      "processing_batch_11\n"
     ]
    },
    {
     "name": "stderr",
     "output_type": "stream",
     "text": [
      "Pathways: 100%|██████████| 1383/1383 [00:52<00:00, 26.35it/s]\n"
     ]
    },
    {
     "name": "stdout",
     "output_type": "stream",
     "text": [
      "processing_batch_12\n"
     ]
    },
    {
     "name": "stderr",
     "output_type": "stream",
     "text": [
      "Pathways: 100%|██████████| 1383/1383 [00:52<00:00, 26.21it/s]\n"
     ]
    },
    {
     "name": "stdout",
     "output_type": "stream",
     "text": [
      "processing_batch_13\n"
     ]
    },
    {
     "name": "stderr",
     "output_type": "stream",
     "text": [
      "Pathways: 100%|██████████| 1383/1383 [00:37<00:00, 37.17it/s]\n"
     ]
    },
    {
     "name": "stdout",
     "output_type": "stream",
     "text": [
      "Ucell_done\n",
      "Outputing_dataframe\n"
     ]
    }
   ],
   "source": [
    "#step1_generate_rank_matrix\n",
    "rank_matrix = scPAFA.tl.fast_ucell_rank(adata=adata,maxRank=2000,n_cores_rank=10,rank_batch_size=100000)\n",
    "#step2_UCell_compute\n",
    "Ucell_result =  scPAFA.tl.fast_ucell_score(cell_index = list(adata.obs.index),rankmatrix=rank_matrix,maxRank=2000,n_cores_score=10,score_batch_size = 100000,input_dict = pathway_input)"
   ]
  },
  {
   "cell_type": "markdown",
   "id": "52672bf5",
   "metadata": {},
   "source": [
    "Save PAS"
   ]
  },
  {
   "cell_type": "code",
   "execution_count": 7,
   "id": "2867df81",
   "metadata": {
    "ExecuteTime": {
     "end_time": "2024-02-17T12:56:26.481031Z",
     "start_time": "2024-02-17T12:55:26.618207Z"
    }
   },
   "outputs": [],
   "source": [
    "#save UCell_result as parquet file\n",
    "import pandas as pd\n",
    "Ucell_result.to_parquet('/data/scPAFA_paper/lupus_file/Ucell_lupus_bioplanet_example.parquet')"
   ]
  }
 ],
 "metadata": {
  "kernelspec": {
   "display_name": "scPAFA_paper",
   "language": "python",
   "name": "scpaf_paper"
  },
  "language_info": {
   "codemirror_mode": {
    "name": "ipython",
    "version": 3
   },
   "file_extension": ".py",
   "mimetype": "text/x-python",
   "name": "python",
   "nbconvert_exporter": "python",
   "pygments_lexer": "ipython3",
   "version": "3.10.12"
  },
  "varInspector": {
   "cols": {
    "lenName": 16,
    "lenType": 16,
    "lenVar": 40
   },
   "kernels_config": {
    "python": {
     "delete_cmd_postfix": "",
     "delete_cmd_prefix": "del ",
     "library": "var_list.py",
     "varRefreshCmd": "print(var_dic_list())"
    },
    "r": {
     "delete_cmd_postfix": ") ",
     "delete_cmd_prefix": "rm(",
     "library": "var_list.r",
     "varRefreshCmd": "cat(var_dic_list()) "
    }
   },
   "types_to_exclude": [
    "module",
    "function",
    "builtin_function_or_method",
    "instance",
    "_Feature"
   ],
   "window_display": false
  }
 },
 "nbformat": 4,
 "nbformat_minor": 5
}
